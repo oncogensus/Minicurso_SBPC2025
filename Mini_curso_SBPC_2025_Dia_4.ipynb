{
  "nbformat": 4,
  "nbformat_minor": 0,
  "metadata": {
    "colab": {
      "provenance": []
    },
    "kernelspec": {
      "name": "python3",
      "display_name": "Python 3"
    },
    "language_info": {
      "name": "python"
    }
  },
  "cells": [
    {
      "cell_type": "markdown",
      "metadata": {
        "id": "5unk8ELvsBwQ"
      },
      "source": [
        "# **Mini curso SBPC 20255 - Caderno dia 4**\n",
        "\n",
        "**ONCOGENÔMICA: FUNDAMENTOS, AVANÇOS E DESAFIOS NA PESQUISA DO CÂNCER**\n",
        "\n",
        "Neste treinamento abordaremos aplicações práticas de bioinformática para análise de variantes genéticas, destacando sua importância na pesquisa, no diagnóstico e no tratamento do câncer através dos seguintes tópicos:\n",
        "  \n",
        "Dia 1:  \n",
        "\n",
        "  - Aula teórica\n",
        "  \n",
        "Dia 2:\n",
        "1. Apresentação do Google Colab\n",
        "2. Instalando bibliotecas e o gerenciador mamba através do PIP\n",
        "3. Download do genoma de referência e sequências de interesse\n",
        "4. Análise de qualidade de dados em sequenciamento Illumina - formato Fastq  \n",
        "\n",
        "Dia 3:\n",
        "5. Alinhamento das leituras de sequenciamento contra um genoma de referência\n",
        "6. Visualização de alinhamento  \n",
        "\n",
        "#**Dia 4:**\n",
        "7. Chamada de Variantes\n",
        "8. Anotação de variantes\n",
        "\n",
        "Use Ctrl+Enter para executar o conteúdo de uma 'célula' de código\n",
        "\n",
        "Use Shift+Enter para executar código selecionado pelo mouse\n",
        "\n",
        "Para começar, vamos instalar algumas bibliotecas e pacotes que serão usados ao longo do minicurso"
      ]
    },
    {
      "cell_type": "markdown",
      "source": [
        "💬 ❗ Para continuar o treinamento, faremos algumas instalações no google colab novamente e copiaremos alguns arquivos gerados no dia anterior."
      ],
      "metadata": {
        "id": "1Bh_C_VxXVUC"
      }
    },
    {
      "cell_type": "code",
      "execution_count": null,
      "metadata": {
        "id": "IsNRY2ENZScO"
      },
      "outputs": [],
      "source": [
        "# Usando instalador de bibliotecas do Python (pip) para instalar o conda/mamba.\n",
        "# Conda/Mamba é uma ferramenta que permite o gerenciamento de pacotes e ambientes virtuais.\n",
        "# Que é um espaço isolado onde você pode instalar e executar ferramentas específicas para um projeto\n",
        "!pip install --upgrade --force-reinstall zstandard\n",
        "!pip install -q condacolab\n",
        "\n",
        "!sed -i '/cudatoolkit/d' /usr/local/conda-meta/pinned\n",
        "\n",
        "#Código em Python\n",
        "import condacolab\n",
        "condacolab.install()\n",
        "\n",
        "#Instala algumas dependências necessárias para os próximos passos\n",
        "#conda-forge é um canal comunitário em que ficam ferramentas e pacotes\n",
        "#bioconda é um canal especializado em bioinfomática\n",
        "!mamba install -c conda-forge curl --quiet\n",
        "\n",
        "# Criando novo ambiente conda para instalar o git LFS.\n",
        "!mamba create -n gitlfs\n",
        "!mamba activate gitlfs\n",
        "!mamba install -c bioconda git-lfs --quiet\n",
        "\n",
        "# Instalando o plugin dp LFS no git local\n",
        "!git lfs install\n",
        "\n",
        "# Baixando sequência de interesse\n",
        "!git --version\n",
        "!git clone https://github.com/oncogensus/Minicurso_SBPC2025.git ./brca1\n",
        "\n",
        "# Descompactando arquivos do dia 4\n",
        "!mkdir refGen aligned\n",
        "!cat brca1/Dia4/Dia4.tar.gz.part* > brca1/Dia4/Dia4.tar.gz\n",
        "!tar -xzvf brca1/Dia4/Dia4.tar.gz -C brca1/Dia4/\n",
        "!mv brca1/Dia4/Dia4_ORI/* refGen/\n",
        "!cp ./brca1/Dia4/chr17_GRCh38.fasta.fai ./refGen/\n",
        "!cp ./brca1/Dia4/clinvar_mini.vcf.* ./brca1/\n",
        "!cp ./brca1/Dia4/aligned/* ./aligned/\n",
        "\n",
        "\n",
        "# No passo anterior são baixados apenas apontadores dos arquivos grandes. Abaixo baixa os arquivos de fato.\n",
        "!git pull lfs\n",
        "\n",
        "# Baixando o ANNOVAR e amostras do 1000 Genomes\n",
        "!wget -P brca1 https://github.com/oncogensus/treinamento_UFBA/raw/main/annovar.latest.tar.gz\n",
        "!wget -P brca1 https://github.com/oncogensus/treinamento_UFBA/raw/main/samples2annot.vcf.gz\n",
        "\n",
        "# Instalando o GATK4\n",
        "!mamba create -n gatk\n",
        "!mamba activate gatk\n",
        "!mamba install -c bioconda gatk4 --quiet"
      ]
    },
    {
      "cell_type": "markdown",
      "metadata": {
        "id": "5LnVwcOg63MQ"
      },
      "source": [
        "#**7. Chamada de Variantes**"
      ]
    },
    {
      "cell_type": "markdown",
      "metadata": {
        "id": "fzAOrT28EYvP"
      },
      "source": [
        "💬 ❗ Para a chamada de variantes usaremos o GATK, com a função HaplotypeCaller, usando o genoma de referência e as sequências de interesse previamente alinhadas contra o genômade referência.\n",
        "\n",
        "Para mais informações sobre o GATK, clique nos links abaixo:\n",
        "\n",
        "* [GATK/Broad Institute](https://gatk.broadinstitute.org/hc/en-us)\n",
        "* [GATK - Documentação](https://gatk.broadinstitute.org/hc/en-us/categories/360002310591)\n",
        "\n",
        "\n"
      ]
    },
    {
      "cell_type": "markdown",
      "metadata": {
        "id": "PCRqgWb8LAkH"
      },
      "source": [
        "💬 ❗ Criaremos um arquivo de dicionário que contém informações sobre as referências genômicas usadas em uma análise. Ele é necessário para várias ferramentas do GATK, que requerem a ordenação e a estruturação correta da sequência de referência com a qual estão sendo comparadas as variantes genômicas."
      ]
    },
    {
      "cell_type": "code",
      "execution_count": null,
      "metadata": {
        "id": "1wExTymARp-q"
      },
      "outputs": [],
      "source": [
        "# Criando o dicionário para a referência\n",
        "!gatk CreateSequenceDictionary \\\n",
        "    -R /content/refGen/chr17_GRCh38.fasta \\\n",
        "    -O /content/refGen/chr17_GRCh38.dict\n"
      ]
    },
    {
      "cell_type": "markdown",
      "metadata": {
        "id": "wv47LIIwMnXn"
      },
      "source": [
        "💬 ❗ Finalmente faremos as chamadas de variantes para as 3 amostras que temos contra a referência. A execução leva em torno de 5 minutos."
      ]
    },
    {
      "cell_type": "code",
      "execution_count": null,
      "metadata": {
        "id": "c9crk00HJVcK"
      },
      "outputs": [],
      "source": [
        "# Criando a pasta variants\n",
        "!mamba activate gatk\n",
        "!echo -e \"\\nCriando a pasta varients\\n\"\n",
        "!mkdir variants\n",
        "!echo -e \"\\nChamando variantes para BRCA1_WT\\n\"\n",
        "!pwd\n",
        "#!touch ./variants/BRCA1_WT.g.vcf.gz\n",
        "!gatk HaplotypeCaller -R /content/refGen/chr17_GRCh38.fasta -I ./aligned/BRCA1_WT_mapped.bam -O ./variants/BRCA1_WT.g.vcf.gz -ERC GVCF\n",
        "!gatk HaplotypeCaller -R /content/refGen/chr17_GRCh38.fasta -I ./aligned/BRCA1_185delAG_mapped.bam -O ./variants/BRCA1_185delAG.g.vcf.gz -ERC GVCF\n",
        "!gatk HaplotypeCaller -R /content/refGen/chr17_GRCh38.fasta -I ./aligned/BRCA1_c.5266dupC_mapped.bam -O ./variants/BRCA1_c.5266dupC.g.vcf.gz -ERC GVCF\n"
      ]
    },
    {
      "cell_type": "markdown",
      "metadata": {
        "id": "jUaUyZFKPYaF"
      },
      "source": [
        "💬 ❗ Abaixo combinaremos as chamadas de variantes das amostras em um cohort."
      ]
    },
    {
      "cell_type": "code",
      "execution_count": null,
      "metadata": {
        "id": "ojoVSZLxix7S"
      },
      "outputs": [],
      "source": [
        "# Combinar os GVCF em um arquivo\n",
        "!gatk CombineGVCFs -R /content/refGen/chr17_GRCh38.fasta -V ./variants/BRCA1_WT.g.vcf.gz -V ./variants/BRCA1_185delAG.g.vcf.gz -V ./variants/BRCA1_c.5266dupC.g.vcf.gz -O ./variants/cohort.g.vcf.gz\n"
      ]
    },
    {
      "cell_type": "markdown",
      "metadata": {
        "id": "O65zRQ6_Nt-k"
      },
      "source": [
        "💬 ❗ Vamos transformar arquivos de variantes no formato GVCF (Genomic Variant Call Format) em um VCF final que contém as variantes genotipadas."
      ]
    },
    {
      "cell_type": "code",
      "execution_count": null,
      "metadata": {
        "id": "uIkDC3ODjfhk"
      },
      "outputs": [],
      "source": [
        "#  Genotipagem de variantes\n",
        "!gatk GenotypeGVCFs -R /content/refGen/chr17_GRCh38.fasta -V ./variants/cohort.g.vcf.gz -O ./variants/cohort.vcf.gz\n"
      ]
    },
    {
      "cell_type": "markdown",
      "metadata": {
        "id": "B9MTT54dOnnV"
      },
      "source": [
        "💬 ❗ Agora vamos aplicar alguns filtros de qualidade das chamadas de variantes.\n",
        "\n",
        "Abaixo algumas legendas:\n",
        "\n",
        "*   QD (QualByDepth): é calculado como a razão entre a qualidade de chamada de variante (QUAL) e a profundidade de cobertura no local da variante (DP).\n",
        "*   FS (Fisher Strand Bias): é uma métrica que mede a presença de viés de strand em torno de uma chamada de variante. Ocorre quando as variantes são detectadas preferencialmente em um dos strands (fitas) do DNA durante o sequenciamento\n",
        "*   MQ (Mapping Quality): representa a qualidade de mapeamento das leituras (reads) que suportam a variante.\n",
        "\n",
        "\n",
        "\n"
      ]
    },
    {
      "cell_type": "code",
      "execution_count": null,
      "metadata": {
        "id": "pGoY-F4Ej9JS"
      },
      "outputs": [],
      "source": [
        "# Aplicando alguns Filtros de qualidade\n",
        "!gatk VariantFiltration -R /content/refGen/chr17_GRCh38.fasta -V ./variants/cohort.vcf.gz -O ./variants/cohort_filtered.vcf.gz --filter-expression \"QD < 2.0 || FS > 60.0 || MQ < 40.0\" --filter-name \"my_snp_filter\"\n"
      ]
    },
    {
      "cell_type": "markdown",
      "metadata": {
        "id": "vZHUZFxmhVxg"
      },
      "source": [
        "💬 ❗ Verificando o arquivo com as variantes chamadas.\n",
        "\n",
        "Algumas informações importantes:\n",
        "\n",
        "* GT (Genotype): Representa o genótipo da amostra para aquela posição. Por exemplo, \"0/0\" indica homozigoto para o alelo de referência. Já \"0/1\" indica que a amostra é heterozigota (uma cópia de cada alelo), enquanto \"1/1\" indica homozigoto para o alelo alternativo.\n",
        "\n",
        "* AD (Allelic Depth): Mostra as contagens de leitura para os alelos de referência e alternativo. Por exemplo, AD=10,5 significa que foram observadas 10 leituras para o alelo de referência e 5 leituras para o alelo alternativo.\n",
        "\n",
        "* DP (Depth of Coverage): Representa o número total de leituras que cobrem a posição variante, ou seja, a soma dos valores de AD. No exemplo anterior, seria 15 (10 leituras de referência + 5 leituras alternativos).\n",
        "\n",
        "* GQ (Genotype Quality): Indica a confiança da chamada do genótipo. Geralmente, quanto maior o valor, maior a confiabilidade do genótipo chamado.\n",
        "\n",
        "* PL (Phred-scaled Likelihoods): Indica as probabilidades relativas de cada genótipo possível (homozigoto referência, heterozigoto, homozigoto alternativo) em uma escala Phred . Quanto menor o valor, mais provável é o genótipo. Por exemplo, PL=0,50,100 indica que o genótipo homozigoto referência é o mais provável (PL=0)."
      ]
    },
    {
      "cell_type": "code",
      "execution_count": null,
      "metadata": {
        "id": "_5WQ2ulpgdlx"
      },
      "outputs": [],
      "source": [
        "!zcat ./variants/cohort_filtered.vcf.gz"
      ]
    },
    {
      "cell_type": "markdown",
      "metadata": {
        "id": "WgW17KYicyxT"
      },
      "source": [
        "#**8. Anotação de variantes**"
      ]
    },
    {
      "cell_type": "markdown",
      "metadata": {
        "id": "AbsvrcVVeciC"
      },
      "source": [
        "💬 ❗ Existem várias bases de dados com informações de variantes conhecidas. Temos também ferramentas como o ANNOVAR que é capaz de baixar essas bases e fazer anotações nos nossos arquivos de variantes, adicionando informações importantes de forma conveniente. Usaremos o bcftools para adicionar anotações baseadas na base de dados do Clinvar.\n",
        "\n",
        "Para mais informações:\n",
        "\n",
        "* [bcftools](https://github.com/samtools/bcftools)\n",
        "* [ANNOVAR](https://annovar.openbioinformatics.org/en/latest/)\n"
      ]
    },
    {
      "cell_type": "code",
      "execution_count": null,
      "metadata": {
        "id": "XXQ-zVX0egMQ"
      },
      "outputs": [],
      "source": [
        "# Criando ambiente mamba para o BCFTOOLS e instalando a aplicação\n",
        "!mamba create -n bcftools\n",
        "!mamba activate bcftools\n",
        "!mamba install -c bioconda bcftools --quiet"
      ]
    },
    {
      "cell_type": "markdown",
      "metadata": {
        "id": "LYjSVI-yeZSk"
      },
      "source": [
        "💬 ❗ Vamos verificar o formato da minibase do clinvar, que foi baixadas do github na etapa 3."
      ]
    },
    {
      "cell_type": "code",
      "execution_count": null,
      "metadata": {
        "id": "Fyi7XV61embA"
      },
      "outputs": [],
      "source": [
        "# Verificando minibase do Clinvar\n",
        "\n",
        "!zcat ./brca1/clinvar_mini.vcf.gz"
      ]
    },
    {
      "cell_type": "markdown",
      "metadata": {
        "id": "AzOwhqs7iX5s"
      },
      "source": [
        "💬 ❗ Agora faremos a anotação do nosso VCF gerado com o bcftools e nossa minibase do Clinvar que foi baixadas do github na etapa 3."
      ]
    },
    {
      "cell_type": "code",
      "execution_count": null,
      "metadata": {
        "id": "zne0mW1jiePw"
      },
      "outputs": [],
      "source": [
        "!echo -e \"\\nCriando a pasta annotated\"\n",
        "!mkdir annotated\n",
        "!echo -e \"\\nAnotando o arquivo cohort_filtered.vcf.gz\"\n",
        "# Anotação com o bcftools e a minibase\n",
        "!bcftools annotate -a ./brca1/clinvar_mini.vcf.gz -c ID,INFO ./variants/cohort_filtered.vcf.gz -o ./annotated/cohort_annotated.vcf\n"
      ]
    },
    {
      "cell_type": "markdown",
      "metadata": {
        "id": "JAOpkTQvjQ35"
      },
      "source": [
        "💬 ❗ Verificando o vcf com as anotações."
      ]
    },
    {
      "cell_type": "code",
      "execution_count": null,
      "metadata": {
        "id": "DlG3wluKfc7h"
      },
      "outputs": [],
      "source": [
        "# Verificando vcf com as anotações da minibase do Clinvar.\n",
        "!cat ./annotated/cohort_annotated.vcf"
      ]
    },
    {
      "cell_type": "markdown",
      "metadata": {
        "id": "IYDsl_2PvBjI"
      },
      "source": [
        "💬 ❗ No começo do treinamento baixamos vários arquivos do github, incluindo ANNOVAR e um VCF com três amostras do 1000 Genomes (ambos estão na pasta brca1). Vamos descompactar o ANNOVAR."
      ]
    },
    {
      "cell_type": "code",
      "execution_count": null,
      "metadata": {
        "id": "bTcOG9P2wHf9"
      },
      "outputs": [],
      "source": [
        "# Descompactando o ANNOVAR.\n",
        "!tar -xvzf ./brca1/annovar.latest.tar.gz\n",
        "!ls -lh ./annovar/\n",
        "!echo -e \"\\n### Verificando bases que já vem no ANNOVAR dentro da pasta humandb ###\\n\"\n",
        "!ls -lhSr ./annovar/humandb/"
      ]
    },
    {
      "cell_type": "markdown",
      "metadata": {
        "id": "uWbtJKfYxvWv"
      },
      "source": [
        "💬 ❗ O ANNOVAR facilita o download de novas bases de dados para anotação de vcf. Para verificar as bases disponíveis para os genomas de referência, acesse [a página de downloads do ANNOVAR.](https://annovar.openbioinformatics.org/en/latest/user-guide/download/)\n",
        "\n"
      ]
    },
    {
      "cell_type": "code",
      "execution_count": null,
      "metadata": {
        "id": "X8P0MOe0zVyu"
      },
      "outputs": [],
      "source": [
        "# Usando o ANNOVAR para baixar as bases Clinvar e AbraOM\n",
        "!./annovar/annotate_variation.pl -buildver hg38 -downdb -webfrom annovar clinvar_20240917 ./annovar/humandb/\n",
        "!echo -e \"\\n ### Verificando as bases baixadas ###\"\n",
        "!ls -lh ./annovar/humandb/"
      ]
    },
    {
      "cell_type": "markdown",
      "metadata": {
        "id": "amhourpQ1ER0"
      },
      "source": [
        "💬 ❗ Agora usaremos o ANNOVAR para anotar o VCF com as três amostras do 1000 Genomes usandos as bases baixadas."
      ]
    },
    {
      "cell_type": "code",
      "execution_count": null,
      "metadata": {
        "id": "XFIXsPEu1Y8F"
      },
      "outputs": [],
      "source": [
        "!gunzip ./brca1/samples2annot.vcf.gz\n",
        "!./annovar/table_annovar.pl ./brca1/samples2annot.vcf ./annovar/humandb/ -buildver hg38 -out ./annotated/samples_clinvar -remove -protocol clinvar_20240917 -operation f -nastring . -vcfinput"
      ]
    },
    {
      "cell_type": "markdown",
      "source": [
        "**Explicando o comando:**  \n",
        "\n",
        "!./annovar/table_annovar.pl \\      # Executa o script table_annovar.pl do ANNOVAR  \n",
        "\n",
        "./brca1/samples2annot.vcf \\        # Arquivo VCF de entrada para anotação  \n",
        "\n",
        "./annovar/humandb/ \\               # Diretório de bancos de dados do ANNOVAR  \n",
        "\n",
        "-buildver hg38 \\                   # Build do genoma: hg38  \n",
        "\n",
        "-out ./annotated/samples_clinvar \\ # Prefixo do arquivo de saída  \n",
        "\n",
        "-remove \\                          # Remove arquivos intermediários  \n",
        "\n",
        "-protocol clinvar_20240917 \\       # Banco de dados: ClinVar (versão 17/09/2024)  \n",
        "\n",
        "-operation f \\                     # Tipo de anotação: baseada em gene  \n",
        "\n",
        "-nastring . \\                      # Representa dados faltantes como \".\"  \n",
        "\n",
        "-vcfinput                          # Entrada no formato VCF\n"
      ],
      "metadata": {
        "id": "4qMZ1bM643ny"
      }
    },
    {
      "cell_type": "markdown",
      "metadata": {
        "id": "oT00BBwlKivj"
      },
      "source": [
        "💬 ❗ Finalmente vamos verificar variantes patogênicas anotadas pelo ANNOVAR com a base do Clinvar."
      ]
    },
    {
      "cell_type": "code",
      "execution_count": null,
      "metadata": {
        "id": "hEo_PlstD3rz"
      },
      "outputs": [],
      "source": [
        "!grep \"Pathogenic\" ./annotated/samples_clinvar.hg38_multianno.vcf"
      ]
    },
    {
      "cell_type": "markdown",
      "source": [
        "#OBRIGADO!!"
      ],
      "metadata": {
        "id": "xySZWBIafYXW"
      }
    }
  ]
}